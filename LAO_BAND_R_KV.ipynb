{
  "nbformat": 4,
  "nbformat_minor": 0,
  "metadata": {
    "colab": {
      "provenance": [],
      "include_colab_link": true
    },
    "kernelspec": {
      "name": "ir",
      "display_name": "R"
    },
    "language_info": {
      "name": "R"
    }
  },
  "cells": [
    {
      "cell_type": "markdown",
      "metadata": {
        "id": "view-in-github",
        "colab_type": "text"
      },
      "source": [
        "<a href=\"https://colab.research.google.com/github/kadamvd/data_cere_ries/blob/master/LAO_BAND_R_KV.ipynb\" target=\"_parent\"><img src=\"https://colab.research.google.com/assets/colab-badge.svg\" alt=\"Open In Colab\"/></a>"
      ]
    },
    {
      "cell_type": "markdown",
      "source": [
        "#**BAND visualization (Reading)**\n",
        " (1) install and load packages\n",
        "\n",
        " (2) Data upload (Download Data: https://docs.google.com/spreadsheets/d/1Y3u7kXI6vPs8gzZvUOMHm-GMCk_aicdK/edit?usp=sharing&ouid=110404411823733054417&rtpof=true&sd=true)\n",
        "\n",
        " (3) Data open\n",
        "\n",
        " (4) Exploring data structures\n",
        "\n",
        " (5) Select variable(Math band)\n",
        "\n",
        " (6) Data pre-processing\n",
        "\n",
        " (7) Visualization"
      ],
      "metadata": {
        "id": "5I9l0C2YQ1T0"
      }
    },
    {
      "cell_type": "code",
      "source": [
        "# (1) install and load packages\n",
        "install.packages(\"descr\")\n",
        "library(descr)\n",
        "library(readxl)\n",
        "library(dplyr)\n",
        "library(tibble)\n",
        "library(ggplot2)"
      ],
      "metadata": {
        "id": "N8j9TfM3R_EH",
        "colab": {
          "base_uri": "https://localhost:8080/"
        },
        "outputId": "503d6bd7-9fba-4267-ee63-99a49fdb21d4"
      },
      "execution_count": null,
      "outputs": [
        {
          "output_type": "stream",
          "name": "stderr",
          "text": [
            "Installing package into ‘/usr/local/lib/R/site-library’\n",
            "(as ‘lib’ is unspecified)\n",
            "\n",
            "also installing the dependency ‘xtable’\n",
            "\n",
            "\n",
            "\n",
            "Attaching package: ‘dplyr’\n",
            "\n",
            "\n",
            "The following objects are masked from ‘package:stats’:\n",
            "\n",
            "    filter, lag\n",
            "\n",
            "\n",
            "The following objects are masked from ‘package:base’:\n",
            "\n",
            "    intersect, setdiff, setequal, union\n",
            "\n",
            "\n"
          ]
        }
      ]
    },
    {
      "cell_type": "code",
      "execution_count": null,
      "metadata": {
        "id": "ef-MOy4UQg0z"
      },
      "outputs": [],
      "source": [
        "# (2) Data upload - Drag & Drop the downloaded data into the file field\n",
        "\n",
        "# (3) Data open\n",
        "data <- read_excel(\"/content/LAO_BAND KV.xlsx\")"
      ]
    },
    {
      "cell_type": "code",
      "source": [
        "# (4) Exploring data structures\n",
        "head(data)"
      ],
      "metadata": {
        "id": "3CYZo77RbabA",
        "colab": {
          "base_uri": "https://localhost:8080/",
          "height": 286
        },
        "outputId": "7700bdbf-fe00-45b8-edc1-d8f9d215636c"
      },
      "execution_count": null,
      "outputs": [
        {
          "output_type": "display_data",
          "data": {
            "text/html": [
              "<table class=\"dataframe\">\n",
              "<caption>A tibble: 6 × 5</caption>\n",
              "<thead>\n",
              "\t<tr><th scope=col>Fullid</th><th scope=col>S_GENDER</th><th scope=col>PL_PV1_M</th><th scope=col>PL_PV1_R</th><th scope=col>PL_PV1_W</th></tr>\n",
              "\t<tr><th scope=col>&lt;chr&gt;</th><th scope=col>&lt;dbl&gt;</th><th scope=col>&lt;dbl&gt;</th><th scope=col>&lt;dbl&gt;</th><th scope=col>&lt;dbl&gt;</th></tr>\n",
              "</thead>\n",
              "<tbody>\n",
              "\t<tr><td>LAO0100101001</td><td>1</td><td>5</td><td>3</td><td>1</td></tr>\n",
              "\t<tr><td>LAO0100101002</td><td>1</td><td>2</td><td>2</td><td>1</td></tr>\n",
              "\t<tr><td>LAO0100101003</td><td>1</td><td>2</td><td>3</td><td>0</td></tr>\n",
              "\t<tr><td>LAO0100101004</td><td>1</td><td>4</td><td>3</td><td>2</td></tr>\n",
              "\t<tr><td>LAO0100101005</td><td>1</td><td>4</td><td>2</td><td>1</td></tr>\n",
              "\t<tr><td>LAO0100101006</td><td>1</td><td>6</td><td>4</td><td>2</td></tr>\n",
              "</tbody>\n",
              "</table>\n"
            ],
            "text/markdown": "\nA tibble: 6 × 5\n\n| Fullid &lt;chr&gt; | S_GENDER &lt;dbl&gt; | PL_PV1_M &lt;dbl&gt; | PL_PV1_R &lt;dbl&gt; | PL_PV1_W &lt;dbl&gt; |\n|---|---|---|---|---|\n| LAO0100101001 | 1 | 5 | 3 | 1 |\n| LAO0100101002 | 1 | 2 | 2 | 1 |\n| LAO0100101003 | 1 | 2 | 3 | 0 |\n| LAO0100101004 | 1 | 4 | 3 | 2 |\n| LAO0100101005 | 1 | 4 | 2 | 1 |\n| LAO0100101006 | 1 | 6 | 4 | 2 |\n\n",
            "text/latex": "A tibble: 6 × 5\n\\begin{tabular}{lllll}\n Fullid & S\\_GENDER & PL\\_PV1\\_M & PL\\_PV1\\_R & PL\\_PV1\\_W\\\\\n <chr> & <dbl> & <dbl> & <dbl> & <dbl>\\\\\n\\hline\n\t LAO0100101001 & 1 & 5 & 3 & 1\\\\\n\t LAO0100101002 & 1 & 2 & 2 & 1\\\\\n\t LAO0100101003 & 1 & 2 & 3 & 0\\\\\n\t LAO0100101004 & 1 & 4 & 3 & 2\\\\\n\t LAO0100101005 & 1 & 4 & 2 & 1\\\\\n\t LAO0100101006 & 1 & 6 & 4 & 2\\\\\n\\end{tabular}\n",
            "text/plain": [
              "  Fullid        S_GENDER PL_PV1_M PL_PV1_R PL_PV1_W\n",
              "1 LAO0100101001 1        5        3        1       \n",
              "2 LAO0100101002 1        2        2        1       \n",
              "3 LAO0100101003 1        2        3        0       \n",
              "4 LAO0100101004 1        4        3        2       \n",
              "5 LAO0100101005 1        4        2        1       \n",
              "6 LAO0100101006 1        6        4        2       "
            ]
          },
          "metadata": {}
        }
      ]
    },
    {
      "cell_type": "code",
      "source": [
        "# (5) Select variable(Reading band)\n",
        "reading <- freq(data$PL_PV1_R)"
      ],
      "metadata": {
        "id": "Pq7FttFq1ZPR",
        "colab": {
          "base_uri": "https://localhost:8080/",
          "height": 437
        },
        "outputId": "8e2ac6e4-e16d-4dbb-d7b1-8ea6b6199681"
      },
      "execution_count": null,
      "outputs": [
        {
          "output_type": "display_data",
          "data": {
            "text/plain": [
              "plot without title"
            ],
            "image/png": "[encoded data removed]"
          },
          "metadata": {
            "image/png": {
              "width": 420,
              "height": 420
            }
          }
        }
      ]
    },
    {
      "cell_type": "code",
      "source": [
        "reading"
      ],
      "metadata": {
        "id": "I8yEELa0hZnw",
        "colab": {
          "base_uri": "https://localhost:8080/",
          "height": 255
        },
        "outputId": "a0ea1e1f-2628-49ce-addc-f06de816e56d"
      },
      "execution_count": null,
      "outputs": [
        {
          "output_type": "display_data",
          "data": {
            "text/html": [
              "<table class=\"dataframe\">\n",
              "<caption>A freqtable: 6 × 2 of type dbl</caption>\n",
              "<thead>\n",
              "\t<tr><th></th><th scope=col>Frequency</th><th scope=col>Percent</th></tr>\n",
              "</thead>\n",
              "<tbody>\n",
              "\t<tr><th scope=row>2</th><td>2239</td><td> 47.668725</td></tr>\n",
              "\t<tr><th scope=row>3</th><td>1204</td><td> 25.633383</td></tr>\n",
              "\t<tr><th scope=row>4</th><td> 772</td><td> 16.436023</td></tr>\n",
              "\t<tr><th scope=row>5</th><td> 339</td><td>  7.217373</td></tr>\n",
              "\t<tr><th scope=row>6</th><td> 143</td><td>  3.044496</td></tr>\n",
              "\t<tr><th scope=row>Total</th><td>4697</td><td>100.000000</td></tr>\n",
              "</tbody>\n",
              "</table>\n"
            ],
            "text/markdown": "\nA freqtable: 6 × 2 of type dbl\n\n| <!--/--> | Frequency | Percent |\n|---|---|---|\n| 2 | 2239 |  47.668725 |\n| 3 | 1204 |  25.633383 |\n| 4 |  772 |  16.436023 |\n| 5 |  339 |   7.217373 |\n| 6 |  143 |   3.044496 |\n| Total | 4697 | 100.000000 |\n\n",
            "text/latex": "A freqtable: 6 × 2 of type dbl\n\\begin{tabular}{r|ll}\n  & Frequency & Percent\\\\\n\\hline\n\t2 & 2239 &  47.668725\\\\\n\t3 & 1204 &  25.633383\\\\\n\t4 &  772 &  16.436023\\\\\n\t5 &  339 &   7.217373\\\\\n\t6 &  143 &   3.044496\\\\\n\tTotal & 4697 & 100.000000\\\\\n\\end{tabular}\n",
            "text/plain": [
              "      Frequency Percent   \n",
              "2     2239       47.668725\n",
              "3     1204       25.633383\n",
              "4      772       16.436023\n",
              "5      339        7.217373\n",
              "6      143        3.044496\n",
              "Total 4697      100.000000"
            ]
          },
          "metadata": {}
        }
      ]
    },
    {
      "cell_type": "code",
      "source": [
        "# (6) Data pre-processing\n",
        "#delete row \"Total\"\n",
        "reading <- reading[!(row.names(reading) %in% \"Total\"),]"
      ],
      "metadata": {
        "id": "QCVRURZDIo6z"
      },
      "execution_count": null,
      "outputs": []
    },
    {
      "cell_type": "code",
      "source": [
        "reading"
      ],
      "metadata": {
        "colab": {
          "base_uri": "https://localhost:8080/",
          "height": 223
        },
        "id": "dHA8N8BqKAow",
        "outputId": "b9951a90-c5fa-47b4-9724-e095b4c6fd60"
      },
      "execution_count": null,
      "outputs": [
        {
          "output_type": "display_data",
          "data": {
            "text/html": [
              "<table class=\"dataframe\">\n",
              "<caption>A matrix: 5 × 2 of type dbl</caption>\n",
              "<thead>\n",
              "\t<tr><th></th><th scope=col>Frequency</th><th scope=col>Percent</th></tr>\n",
              "</thead>\n",
              "<tbody>\n",
              "\t<tr><th scope=row>2</th><td>2239</td><td>47.668725</td></tr>\n",
              "\t<tr><th scope=row>3</th><td>1204</td><td>25.633383</td></tr>\n",
              "\t<tr><th scope=row>4</th><td> 772</td><td>16.436023</td></tr>\n",
              "\t<tr><th scope=row>5</th><td> 339</td><td> 7.217373</td></tr>\n",
              "\t<tr><th scope=row>6</th><td> 143</td><td> 3.044496</td></tr>\n",
              "</tbody>\n",
              "</table>\n"
            ],
            "text/markdown": "\nA matrix: 5 × 2 of type dbl\n\n| <!--/--> | Frequency | Percent |\n|---|---|---|\n| 2 | 2239 | 47.668725 |\n| 3 | 1204 | 25.633383 |\n| 4 |  772 | 16.436023 |\n| 5 |  339 |  7.217373 |\n| 6 |  143 |  3.044496 |\n\n",
            "text/latex": "A matrix: 5 × 2 of type dbl\n\\begin{tabular}{r|ll}\n  & Frequency & Percent\\\\\n\\hline\n\t2 & 2239 & 47.668725\\\\\n\t3 & 1204 & 25.633383\\\\\n\t4 &  772 & 16.436023\\\\\n\t5 &  339 &  7.217373\\\\\n\t6 &  143 &  3.044496\\\\\n\\end{tabular}\n",
            "text/plain": [
              "  Frequency Percent  \n",
              "2 2239      47.668725\n",
              "3 1204      25.633383\n",
              "4  772      16.436023\n",
              "5  339       7.217373\n",
              "6  143       3.044496"
            ]
          },
          "metadata": {}
        }
      ]
    },
    {
      "cell_type": "code",
      "source": [
        "#convert to dataframe\n",
        "reading <- data.frame(reading)"
      ],
      "metadata": {
        "id": "rF9PWhod7wrK"
      },
      "execution_count": null,
      "outputs": []
    },
    {
      "cell_type": "code",
      "source": [
        "#rowname to column\n",
        "reading <- rownames_to_column(reading)\n",
        "reading"
      ],
      "metadata": {
        "id": "vk9bCi8m7xV2",
        "colab": {
          "base_uri": "https://localhost:8080/",
          "height": 255
        },
        "outputId": "8963774e-0c66-4514-9bab-17b459d9dedf"
      },
      "execution_count": null,
      "outputs": [
        {
          "output_type": "display_data",
          "data": {
            "text/html": [
              "<table class=\"dataframe\">\n",
              "<caption>A data.frame: 5 × 3</caption>\n",
              "<thead>\n",
              "\t<tr><th scope=col>rowname</th><th scope=col>Frequency</th><th scope=col>Percent</th></tr>\n",
              "\t<tr><th scope=col>&lt;chr&gt;</th><th scope=col>&lt;dbl&gt;</th><th scope=col>&lt;dbl&gt;</th></tr>\n",
              "</thead>\n",
              "<tbody>\n",
              "\t<tr><td>2</td><td>2239</td><td>47.668725</td></tr>\n",
              "\t<tr><td>3</td><td>1204</td><td>25.633383</td></tr>\n",
              "\t<tr><td>4</td><td> 772</td><td>16.436023</td></tr>\n",
              "\t<tr><td>5</td><td> 339</td><td> 7.217373</td></tr>\n",
              "\t<tr><td>6</td><td> 143</td><td> 3.044496</td></tr>\n",
              "</tbody>\n",
              "</table>\n"
            ],
            "text/markdown": "\nA data.frame: 5 × 3\n\n| rowname &lt;chr&gt; | Frequency &lt;dbl&gt; | Percent &lt;dbl&gt; |\n|---|---|---|\n| 2 | 2239 | 47.668725 |\n| 3 | 1204 | 25.633383 |\n| 4 |  772 | 16.436023 |\n| 5 |  339 |  7.217373 |\n| 6 |  143 |  3.044496 |\n\n",
            "text/latex": "A data.frame: 5 × 3\n\\begin{tabular}{lll}\n rowname & Frequency & Percent\\\\\n <chr> & <dbl> & <dbl>\\\\\n\\hline\n\t 2 & 2239 & 47.668725\\\\\n\t 3 & 1204 & 25.633383\\\\\n\t 4 &  772 & 16.436023\\\\\n\t 5 &  339 &  7.217373\\\\\n\t 6 &  143 &  3.044496\\\\\n\\end{tabular}\n",
            "text/plain": [
              "  rowname Frequency Percent  \n",
              "1 2       2239      47.668725\n",
              "2 3       1204      25.633383\n",
              "3 4        772      16.436023\n",
              "4 5        339       7.217373\n",
              "5 6        143       3.044496"
            ]
          },
          "metadata": {}
        }
      ]
    },
    {
      "cell_type": "code",
      "source": [
        "#limiting decimals\n",
        "reading$Percent <- round(reading$Percent, 1)\n",
        "reading"
      ],
      "metadata": {
        "id": "z7l72tZL7xJ5",
        "colab": {
          "base_uri": "https://localhost:8080/",
          "height": 255
        },
        "outputId": "6cac6d64-c703-40f9-837f-38531e154c14"
      },
      "execution_count": null,
      "outputs": [
        {
          "output_type": "display_data",
          "data": {
            "text/html": [
              "<table class=\"dataframe\">\n",
              "<caption>A data.frame: 5 × 3</caption>\n",
              "<thead>\n",
              "\t<tr><th scope=col>rowname</th><th scope=col>Frequency</th><th scope=col>Percent</th></tr>\n",
              "\t<tr><th scope=col>&lt;chr&gt;</th><th scope=col>&lt;dbl&gt;</th><th scope=col>&lt;dbl&gt;</th></tr>\n",
              "</thead>\n",
              "<tbody>\n",
              "\t<tr><td>2</td><td>2239</td><td>47.7</td></tr>\n",
              "\t<tr><td>3</td><td>1204</td><td>25.6</td></tr>\n",
              "\t<tr><td>4</td><td> 772</td><td>16.4</td></tr>\n",
              "\t<tr><td>5</td><td> 339</td><td> 7.2</td></tr>\n",
              "\t<tr><td>6</td><td> 143</td><td> 3.0</td></tr>\n",
              "</tbody>\n",
              "</table>\n"
            ],
            "text/markdown": "\nA data.frame: 5 × 3\n\n| rowname &lt;chr&gt; | Frequency &lt;dbl&gt; | Percent &lt;dbl&gt; |\n|---|---|---|\n| 2 | 2239 | 47.7 |\n| 3 | 1204 | 25.6 |\n| 4 |  772 | 16.4 |\n| 5 |  339 |  7.2 |\n| 6 |  143 |  3.0 |\n\n",
            "text/latex": "A data.frame: 5 × 3\n\\begin{tabular}{lll}\n rowname & Frequency & Percent\\\\\n <chr> & <dbl> & <dbl>\\\\\n\\hline\n\t 2 & 2239 & 47.7\\\\\n\t 3 & 1204 & 25.6\\\\\n\t 4 &  772 & 16.4\\\\\n\t 5 &  339 &  7.2\\\\\n\t 6 &  143 &  3.0\\\\\n\\end{tabular}\n",
            "text/plain": [
              "  rowname Frequency Percent\n",
              "1 2       2239      47.7   \n",
              "2 3       1204      25.6   \n",
              "3 4        772      16.4   \n",
              "4 5        339       7.2   \n",
              "5 6        143       3.0   "
            ]
          },
          "metadata": {}
        }
      ]
    },
    {
      "cell_type": "code",
      "source": [
        "# reorder rows\n",
        "reading$rowname <- factor(reading$rowname, levels=c('6', '5', '4', '3', '2'))\n",
        "reading"
      ],
      "metadata": {
        "id": "Y94HPLXHd71q",
        "colab": {
          "base_uri": "https://localhost:8080/",
          "height": 255
        },
        "outputId": "06c683e2-8873-4e99-a5b2-111ea06af957"
      },
      "execution_count": null,
      "outputs": [
        {
          "output_type": "display_data",
          "data": {
            "text/html": [
              "<table class=\"dataframe\">\n",
              "<caption>A data.frame: 5 × 3</caption>\n",
              "<thead>\n",
              "\t<tr><th scope=col>rowname</th><th scope=col>Frequency</th><th scope=col>Percent</th></tr>\n",
              "\t<tr><th scope=col>&lt;fct&gt;</th><th scope=col>&lt;dbl&gt;</th><th scope=col>&lt;dbl&gt;</th></tr>\n",
              "</thead>\n",
              "<tbody>\n",
              "\t<tr><td>2</td><td>2239</td><td>47.7</td></tr>\n",
              "\t<tr><td>3</td><td>1204</td><td>25.6</td></tr>\n",
              "\t<tr><td>4</td><td> 772</td><td>16.4</td></tr>\n",
              "\t<tr><td>5</td><td> 339</td><td> 7.2</td></tr>\n",
              "\t<tr><td>6</td><td> 143</td><td> 3.0</td></tr>\n",
              "</tbody>\n",
              "</table>\n"
            ],
            "text/markdown": "\nA data.frame: 5 × 3\n\n| rowname &lt;fct&gt; | Frequency &lt;dbl&gt; | Percent &lt;dbl&gt; |\n|---|---|---|\n| 2 | 2239 | 47.7 |\n| 3 | 1204 | 25.6 |\n| 4 |  772 | 16.4 |\n| 5 |  339 |  7.2 |\n| 6 |  143 |  3.0 |\n\n",
            "text/latex": "A data.frame: 5 × 3\n\\begin{tabular}{lll}\n rowname & Frequency & Percent\\\\\n <fct> & <dbl> & <dbl>\\\\\n\\hline\n\t 2 & 2239 & 47.7\\\\\n\t 3 & 1204 & 25.6\\\\\n\t 4 &  772 & 16.4\\\\\n\t 5 &  339 &  7.2\\\\\n\t 6 &  143 &  3.0\\\\\n\\end{tabular}\n",
            "text/plain": [
              "  rowname Frequency Percent\n",
              "1 2       2239      47.7   \n",
              "2 3       1204      25.6   \n",
              "3 4        772      16.4   \n",
              "4 5        339       7.2   \n",
              "5 6        143       3.0   "
            ]
          },
          "metadata": {}
        }
      ]
    },
    {
      "cell_type": "code",
      "source": [
        "# (7) Visualization\n",
        "ggplot(reading, aes(x = \"\", y =Percent   , fill=rowname, label =Percent   )) +\n",
        "       geom_bar(stat=\"identity\") +\n",
        "       geom_text(size=5, position = position_stack(vjust = 0.5))"
      ],
      "metadata": {
        "id": "FlO3IhghZtMR",
        "colab": {
          "base_uri": "https://localhost:8080/",
          "height": 437
        },
        "outputId": "9335d5de-b999-4072-836b-3d331c307807"
      },
      "execution_count": null,
      "outputs": [
        {
          "output_type": "display_data",
          "data": {
            "text/plain": [
              "plot without title"
            ],
            "image/png": "[encoded data removed]"
          },
          "metadata": {
            "image/png": {
              "width": 420,
              "height": 420
            }
          }
        }
      ]
    }
  ]
}