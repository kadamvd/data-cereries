{
  "nbformat": 4,
  "nbformat_minor": 0,
  "metadata": {
    "colab": {
      "provenance": [],
      "include_colab_link": true
    },
    "kernelspec": {
      "name": "ir",
      "display_name": "R"
    },
    "language_info": {
      "name": "R"
    }
  },
  "cells": [
    {
      "cell_type": "markdown",
      "metadata": {
        "id": "view-in-github",
        "colab_type": "text"
      },
      "source": [
        "<a href=\"https://colab.research.google.com/github/kadamvd/data_cere_ries/blob/master/LAO_BAND_W_KV.ipynb\" target=\"_parent\"><img src=\"https://colab.research.google.com/assets/colab-badge.svg\" alt=\"Open In Colab\"/></a>"
      ]
    },
    {
      "cell_type": "markdown",
      "source": [
        "#**BAND visualization (Writing)**\n",
        " (1) install and load packages\n",
        "\n",
        " (2) Data upload (Download Data: https://docs.google.com/spreadsheets/d/1Y3u7kXI6vPs8gzZvUOMHm-GMCk_aicdK/edit?usp=sharing&ouid=110404411823733054417&rtpof=true&sd=true)\n",
        "\n",
        " (3) Data open\n",
        "\n",
        " (4) Exploring data structures\n",
        "\n",
        " (5) Select variable(Math band)\n",
        "\n",
        " (6) Data pre-processing\n",
        "\n",
        " (7) Visualization"
      ],
      "metadata": {
        "id": "5I9l0C2YQ1T0"
      }
    },
    {
      "cell_type": "code",
      "source": [
        "# (1) install and load packages\n",
        "install.packages(\"descr\")\n",
        "library(descr)\n",
        "library(readxl)\n",
        "library(dplyr)\n",
        "library(tibble)\n",
        "library(ggplot2)"
      ],
      "metadata": {
        "id": "N8j9TfM3R_EH",
        "colab": {
          "base_uri": "https://localhost:8080/"
        },
        "outputId": "5643180b-a40b-4090-da67-86d8b317effa"
      },
      "execution_count": null,
      "outputs": [
        {
          "output_type": "stream",
          "name": "stderr",
          "text": [
            "Installing package into ‘/usr/local/lib/R/site-library’\n",
            "(as ‘lib’ is unspecified)\n",
            "\n",
            "also installing the dependency ‘xtable’\n",
            "\n",
            "\n",
            "\n",
            "Attaching package: ‘dplyr’\n",
            "\n",
            "\n",
            "The following objects are masked from ‘package:stats’:\n",
            "\n",
            "    filter, lag\n",
            "\n",
            "\n",
            "The following objects are masked from ‘package:base’:\n",
            "\n",
            "    intersect, setdiff, setequal, union\n",
            "\n",
            "\n"
          ]
        }
      ]
    },
    {
      "cell_type": "code",
      "execution_count": null,
      "metadata": {
        "id": "ef-MOy4UQg0z"
      },
      "outputs": [],
      "source": [
        "# (2) Data upload - Drag & Drop the downloaded data into the file field\n",
        "\n",
        "# (3) Data open\n",
        "data <- read_excel(\"/content/LAO_BAND Writing.xlsx\")"
      ]
    },
    {
      "cell_type": "code",
      "source": [
        "# (4) Exploring data structures\n",
        "head(data)"
      ],
      "metadata": {
        "id": "3CYZo77RbabA",
        "colab": {
          "base_uri": "https://localhost:8080/",
          "height": 286
        },
        "outputId": "ebf6206e-9295-4cea-ba4c-948a817e730b"
      },
      "execution_count": null,
      "outputs": [
        {
          "output_type": "display_data",
          "data": {
            "text/html": [
              "<table class=\"dataframe\">\n",
              "<caption>A tibble: 6 × 5</caption>\n",
              "<thead>\n",
              "\t<tr><th scope=col>Fullid</th><th scope=col>S_GENDER</th><th scope=col>PL_PV1_M</th><th scope=col>PL_PV1_R</th><th scope=col>PL_PV1_W</th></tr>\n",
              "\t<tr><th scope=col>&lt;chr&gt;</th><th scope=col>&lt;dbl&gt;</th><th scope=col>&lt;dbl&gt;</th><th scope=col>&lt;dbl&gt;</th><th scope=col>&lt;dbl&gt;</th></tr>\n",
              "</thead>\n",
              "<tbody>\n",
              "\t<tr><td>LAO0100101001</td><td>1</td><td>5</td><td>3</td><td>1</td></tr>\n",
              "\t<tr><td>LAO0100101002</td><td>1</td><td>2</td><td>2</td><td>1</td></tr>\n",
              "\t<tr><td>LAO0100101003</td><td>1</td><td>2</td><td>3</td><td>0</td></tr>\n",
              "\t<tr><td>LAO0100101004</td><td>1</td><td>4</td><td>3</td><td>2</td></tr>\n",
              "\t<tr><td>LAO0100101005</td><td>1</td><td>4</td><td>2</td><td>1</td></tr>\n",
              "\t<tr><td>LAO0100101006</td><td>1</td><td>6</td><td>4</td><td>2</td></tr>\n",
              "</tbody>\n",
              "</table>\n"
            ],
            "text/markdown": "\nA tibble: 6 × 5\n\n| Fullid &lt;chr&gt; | S_GENDER &lt;dbl&gt; | PL_PV1_M &lt;dbl&gt; | PL_PV1_R &lt;dbl&gt; | PL_PV1_W &lt;dbl&gt; |\n|---|---|---|---|---|\n| LAO0100101001 | 1 | 5 | 3 | 1 |\n| LAO0100101002 | 1 | 2 | 2 | 1 |\n| LAO0100101003 | 1 | 2 | 3 | 0 |\n| LAO0100101004 | 1 | 4 | 3 | 2 |\n| LAO0100101005 | 1 | 4 | 2 | 1 |\n| LAO0100101006 | 1 | 6 | 4 | 2 |\n\n",
            "text/latex": "A tibble: 6 × 5\n\\begin{tabular}{lllll}\n Fullid & S\\_GENDER & PL\\_PV1\\_M & PL\\_PV1\\_R & PL\\_PV1\\_W\\\\\n <chr> & <dbl> & <dbl> & <dbl> & <dbl>\\\\\n\\hline\n\t LAO0100101001 & 1 & 5 & 3 & 1\\\\\n\t LAO0100101002 & 1 & 2 & 2 & 1\\\\\n\t LAO0100101003 & 1 & 2 & 3 & 0\\\\\n\t LAO0100101004 & 1 & 4 & 3 & 2\\\\\n\t LAO0100101005 & 1 & 4 & 2 & 1\\\\\n\t LAO0100101006 & 1 & 6 & 4 & 2\\\\\n\\end{tabular}\n",
            "text/plain": [
              "  Fullid        S_GENDER PL_PV1_M PL_PV1_R PL_PV1_W\n",
              "1 LAO0100101001 1        5        3        1       \n",
              "2 LAO0100101002 1        2        2        1       \n",
              "3 LAO0100101003 1        2        3        0       \n",
              "4 LAO0100101004 1        4        3        2       \n",
              "5 LAO0100101005 1        4        2        1       \n",
              "6 LAO0100101006 1        6        4        2       "
            ]
          },
          "metadata": {}
        }
      ]
    },
    {
      "cell_type": "code",
      "source": [
        "# (5) Select variable(Writing band)\n",
        "writing <- freq(data$PL_PV1_W)"
      ],
      "metadata": {
        "id": "Pq7FttFq1ZPR",
        "colab": {
          "base_uri": "https://localhost:8080/",
          "height": 437
        },
        "outputId": "b8442bfa-c5c4-4880-bb7c-db5a9bd54aa8"
      },
      "execution_count": null,
      "outputs": [
        {
          "output_type": "display_data",
          "data": {
            "text/plain": [
              "plot without title"
            ],
            "image/png": "[encoded data removed]"
          },
          "metadata": {
            "image/png": {
              "width": 420,
              "height": 420
            }
          }
        }
      ]
    },
    {
      "cell_type": "code",
      "source": [
        "writing"
      ],
      "metadata": {
        "id": "I8yEELa0hZnw",
        "colab": {
          "base_uri": "https://localhost:8080/",
          "height": 349
        },
        "outputId": "33fe540c-feb2-4534-dd07-87fa6acb27f2"
      },
      "execution_count": null,
      "outputs": [
        {
          "output_type": "display_data",
          "data": {
            "text/html": [
              "<table class=\"dataframe\">\n",
              "<caption>A freqtable: 9 × 2 of type dbl</caption>\n",
              "<thead>\n",
              "\t<tr><th></th><th scope=col>Frequency</th><th scope=col>Percent</th></tr>\n",
              "</thead>\n",
              "<tbody>\n",
              "\t<tr><th scope=row>0</th><td>2343</td><td> 49.882904</td></tr>\n",
              "\t<tr><th scope=row>1</th><td> 512</td><td> 10.900575</td></tr>\n",
              "\t<tr><th scope=row>2</th><td> 578</td><td> 12.305727</td></tr>\n",
              "\t<tr><th scope=row>3</th><td> 497</td><td> 10.581222</td></tr>\n",
              "\t<tr><th scope=row>4</th><td> 402</td><td>  8.558654</td></tr>\n",
              "\t<tr><th scope=row>5</th><td> 214</td><td>  4.556100</td></tr>\n",
              "\t<tr><th scope=row>6</th><td>  77</td><td>  1.639344</td></tr>\n",
              "\t<tr><th scope=row>7</th><td>  74</td><td>  1.575474</td></tr>\n",
              "\t<tr><th scope=row>Total</th><td>4697</td><td>100.000000</td></tr>\n",
              "</tbody>\n",
              "</table>\n"
            ],
            "text/markdown": "\nA freqtable: 9 × 2 of type dbl\n\n| <!--/--> | Frequency | Percent |\n|---|---|---|\n| 0 | 2343 |  49.882904 |\n| 1 |  512 |  10.900575 |\n| 2 |  578 |  12.305727 |\n| 3 |  497 |  10.581222 |\n| 4 |  402 |   8.558654 |\n| 5 |  214 |   4.556100 |\n| 6 |   77 |   1.639344 |\n| 7 |   74 |   1.575474 |\n| Total | 4697 | 100.000000 |\n\n",
            "text/latex": "A freqtable: 9 × 2 of type dbl\n\\begin{tabular}{r|ll}\n  & Frequency & Percent\\\\\n\\hline\n\t0 & 2343 &  49.882904\\\\\n\t1 &  512 &  10.900575\\\\\n\t2 &  578 &  12.305727\\\\\n\t3 &  497 &  10.581222\\\\\n\t4 &  402 &   8.558654\\\\\n\t5 &  214 &   4.556100\\\\\n\t6 &   77 &   1.639344\\\\\n\t7 &   74 &   1.575474\\\\\n\tTotal & 4697 & 100.000000\\\\\n\\end{tabular}\n",
            "text/plain": [
              "      Frequency Percent   \n",
              "0     2343       49.882904\n",
              "1      512       10.900575\n",
              "2      578       12.305727\n",
              "3      497       10.581222\n",
              "4      402        8.558654\n",
              "5      214        4.556100\n",
              "6       77        1.639344\n",
              "7       74        1.575474\n",
              "Total 4697      100.000000"
            ]
          },
          "metadata": {}
        }
      ]
    },
    {
      "cell_type": "code",
      "source": [
        "# (6) Data pre-processing\n",
        "#delete row \"Total\"\n",
        "writing <- writing[!(row.names(writing) %in% \"Total\"),]"
      ],
      "metadata": {
        "id": "QCVRURZDIo6z"
      },
      "execution_count": null,
      "outputs": []
    },
    {
      "cell_type": "code",
      "source": [
        "writing"
      ],
      "metadata": {
        "colab": {
          "base_uri": "https://localhost:8080/",
          "height": 317
        },
        "id": "TOLI1n8fSOZx",
        "outputId": "c2be729b-70dd-4354-8ce1-64182addc0f1"
      },
      "execution_count": null,
      "outputs": [
        {
          "output_type": "display_data",
          "data": {
            "text/html": [
              "<table class=\"dataframe\">\n",
              "<caption>A matrix: 8 × 2 of type dbl</caption>\n",
              "<thead>\n",
              "\t<tr><th></th><th scope=col>Frequency</th><th scope=col>Percent</th></tr>\n",
              "</thead>\n",
              "<tbody>\n",
              "\t<tr><th scope=row>0</th><td>2343</td><td>49.882904</td></tr>\n",
              "\t<tr><th scope=row>1</th><td> 512</td><td>10.900575</td></tr>\n",
              "\t<tr><th scope=row>2</th><td> 578</td><td>12.305727</td></tr>\n",
              "\t<tr><th scope=row>3</th><td> 497</td><td>10.581222</td></tr>\n",
              "\t<tr><th scope=row>4</th><td> 402</td><td> 8.558654</td></tr>\n",
              "\t<tr><th scope=row>5</th><td> 214</td><td> 4.556100</td></tr>\n",
              "\t<tr><th scope=row>6</th><td>  77</td><td> 1.639344</td></tr>\n",
              "\t<tr><th scope=row>7</th><td>  74</td><td> 1.575474</td></tr>\n",
              "</tbody>\n",
              "</table>\n"
            ],
            "text/markdown": "\nA matrix: 8 × 2 of type dbl\n\n| <!--/--> | Frequency | Percent |\n|---|---|---|\n| 0 | 2343 | 49.882904 |\n| 1 |  512 | 10.900575 |\n| 2 |  578 | 12.305727 |\n| 3 |  497 | 10.581222 |\n| 4 |  402 |  8.558654 |\n| 5 |  214 |  4.556100 |\n| 6 |   77 |  1.639344 |\n| 7 |   74 |  1.575474 |\n\n",
            "text/latex": "A matrix: 8 × 2 of type dbl\n\\begin{tabular}{r|ll}\n  & Frequency & Percent\\\\\n\\hline\n\t0 & 2343 & 49.882904\\\\\n\t1 &  512 & 10.900575\\\\\n\t2 &  578 & 12.305727\\\\\n\t3 &  497 & 10.581222\\\\\n\t4 &  402 &  8.558654\\\\\n\t5 &  214 &  4.556100\\\\\n\t6 &   77 &  1.639344\\\\\n\t7 &   74 &  1.575474\\\\\n\\end{tabular}\n",
            "text/plain": [
              "  Frequency Percent  \n",
              "0 2343      49.882904\n",
              "1  512      10.900575\n",
              "2  578      12.305727\n",
              "3  497      10.581222\n",
              "4  402       8.558654\n",
              "5  214       4.556100\n",
              "6   77       1.639344\n",
              "7   74       1.575474"
            ]
          },
          "metadata": {}
        }
      ]
    },
    {
      "cell_type": "code",
      "source": [
        "#convert to dataframe\n",
        "writing <- data.frame(writing)"
      ],
      "metadata": {
        "id": "rF9PWhod7wrK"
      },
      "execution_count": null,
      "outputs": []
    },
    {
      "cell_type": "code",
      "source": [
        "writing"
      ],
      "metadata": {
        "colab": {
          "base_uri": "https://localhost:8080/",
          "height": 349
        },
        "id": "uMlUUYSaSaM4",
        "outputId": "a9263287-4ad7-45cb-b383-42e95e2f4901"
      },
      "execution_count": null,
      "outputs": [
        {
          "output_type": "display_data",
          "data": {
            "text/html": [
              "<table class=\"dataframe\">\n",
              "<caption>A data.frame: 8 × 2</caption>\n",
              "<thead>\n",
              "\t<tr><th></th><th scope=col>Frequency</th><th scope=col>Percent</th></tr>\n",
              "\t<tr><th></th><th scope=col>&lt;dbl&gt;</th><th scope=col>&lt;dbl&gt;</th></tr>\n",
              "</thead>\n",
              "<tbody>\n",
              "\t<tr><th scope=row>0</th><td>2343</td><td>49.882904</td></tr>\n",
              "\t<tr><th scope=row>1</th><td> 512</td><td>10.900575</td></tr>\n",
              "\t<tr><th scope=row>2</th><td> 578</td><td>12.305727</td></tr>\n",
              "\t<tr><th scope=row>3</th><td> 497</td><td>10.581222</td></tr>\n",
              "\t<tr><th scope=row>4</th><td> 402</td><td> 8.558654</td></tr>\n",
              "\t<tr><th scope=row>5</th><td> 214</td><td> 4.556100</td></tr>\n",
              "\t<tr><th scope=row>6</th><td>  77</td><td> 1.639344</td></tr>\n",
              "\t<tr><th scope=row>7</th><td>  74</td><td> 1.575474</td></tr>\n",
              "</tbody>\n",
              "</table>\n"
            ],
            "text/markdown": "\nA data.frame: 8 × 2\n\n| <!--/--> | Frequency &lt;dbl&gt; | Percent &lt;dbl&gt; |\n|---|---|---|\n| 0 | 2343 | 49.882904 |\n| 1 |  512 | 10.900575 |\n| 2 |  578 | 12.305727 |\n| 3 |  497 | 10.581222 |\n| 4 |  402 |  8.558654 |\n| 5 |  214 |  4.556100 |\n| 6 |   77 |  1.639344 |\n| 7 |   74 |  1.575474 |\n\n",
            "text/latex": "A data.frame: 8 × 2\n\\begin{tabular}{r|ll}\n  & Frequency & Percent\\\\\n  & <dbl> & <dbl>\\\\\n\\hline\n\t0 & 2343 & 49.882904\\\\\n\t1 &  512 & 10.900575\\\\\n\t2 &  578 & 12.305727\\\\\n\t3 &  497 & 10.581222\\\\\n\t4 &  402 &  8.558654\\\\\n\t5 &  214 &  4.556100\\\\\n\t6 &   77 &  1.639344\\\\\n\t7 &   74 &  1.575474\\\\\n\\end{tabular}\n",
            "text/plain": [
              "  Frequency Percent  \n",
              "0 2343      49.882904\n",
              "1  512      10.900575\n",
              "2  578      12.305727\n",
              "3  497      10.581222\n",
              "4  402       8.558654\n",
              "5  214       4.556100\n",
              "6   77       1.639344\n",
              "7   74       1.575474"
            ]
          },
          "metadata": {}
        }
      ]
    },
    {
      "cell_type": "code",
      "source": [
        "#rowname to column\n",
        "writing <- rownames_to_column(writing)"
      ],
      "metadata": {
        "id": "vk9bCi8m7xV2"
      },
      "execution_count": null,
      "outputs": []
    },
    {
      "cell_type": "code",
      "source": [
        "writing"
      ],
      "metadata": {
        "colab": {
          "base_uri": "https://localhost:8080/",
          "height": 349
        },
        "id": "yoeLWipySyQ_",
        "outputId": "ea125983-a0e8-466d-d404-c94f3aed3883"
      },
      "execution_count": null,
      "outputs": [
        {
          "output_type": "display_data",
          "data": {
            "text/html": [
              "<table class=\"dataframe\">\n",
              "<caption>A data.frame: 8 × 3</caption>\n",
              "<thead>\n",
              "\t<tr><th scope=col>rowname</th><th scope=col>Frequency</th><th scope=col>Percent</th></tr>\n",
              "\t<tr><th scope=col>&lt;chr&gt;</th><th scope=col>&lt;dbl&gt;</th><th scope=col>&lt;dbl&gt;</th></tr>\n",
              "</thead>\n",
              "<tbody>\n",
              "\t<tr><td>0</td><td>2343</td><td>49.9</td></tr>\n",
              "\t<tr><td>1</td><td> 512</td><td>10.9</td></tr>\n",
              "\t<tr><td>2</td><td> 578</td><td>12.3</td></tr>\n",
              "\t<tr><td>3</td><td> 497</td><td>10.6</td></tr>\n",
              "\t<tr><td>4</td><td> 402</td><td> 8.6</td></tr>\n",
              "\t<tr><td>5</td><td> 214</td><td> 4.6</td></tr>\n",
              "\t<tr><td>6</td><td>  77</td><td> 1.6</td></tr>\n",
              "\t<tr><td>7</td><td>  74</td><td> 1.6</td></tr>\n",
              "</tbody>\n",
              "</table>\n"
            ],
            "text/markdown": "\nA data.frame: 8 × 3\n\n| rowname &lt;chr&gt; | Frequency &lt;dbl&gt; | Percent &lt;dbl&gt; |\n|---|---|---|\n| 0 | 2343 | 49.9 |\n| 1 |  512 | 10.9 |\n| 2 |  578 | 12.3 |\n| 3 |  497 | 10.6 |\n| 4 |  402 |  8.6 |\n| 5 |  214 |  4.6 |\n| 6 |   77 |  1.6 |\n| 7 |   74 |  1.6 |\n\n",
            "text/latex": "A data.frame: 8 × 3\n\\begin{tabular}{lll}\n rowname & Frequency & Percent\\\\\n <chr> & <dbl> & <dbl>\\\\\n\\hline\n\t 0 & 2343 & 49.9\\\\\n\t 1 &  512 & 10.9\\\\\n\t 2 &  578 & 12.3\\\\\n\t 3 &  497 & 10.6\\\\\n\t 4 &  402 &  8.6\\\\\n\t 5 &  214 &  4.6\\\\\n\t 6 &   77 &  1.6\\\\\n\t 7 &   74 &  1.6\\\\\n\\end{tabular}\n",
            "text/plain": [
              "  rowname Frequency Percent\n",
              "1 0       2343      49.9   \n",
              "2 1        512      10.9   \n",
              "3 2        578      12.3   \n",
              "4 3        497      10.6   \n",
              "5 4        402       8.6   \n",
              "6 5        214       4.6   \n",
              "7 6         77       1.6   \n",
              "8 7         74       1.6   "
            ]
          },
          "metadata": {}
        }
      ]
    },
    {
      "cell_type": "code",
      "source": [
        "#limiting decimals\n",
        "writing$Percent <- round(writing$Percent, 1)\n",
        "writing"
      ],
      "metadata": {
        "id": "z7l72tZL7xJ5",
        "colab": {
          "base_uri": "https://localhost:8080/",
          "height": 349
        },
        "outputId": "0ad0691c-d693-4a34-83ac-6fcfcce1f4ac"
      },
      "execution_count": null,
      "outputs": [
        {
          "output_type": "display_data",
          "data": {
            "text/html": [
              "<table class=\"dataframe\">\n",
              "<caption>A data.frame: 8 × 3</caption>\n",
              "<thead>\n",
              "\t<tr><th scope=col>rowname</th><th scope=col>Frequency</th><th scope=col>Percent</th></tr>\n",
              "\t<tr><th scope=col>&lt;chr&gt;</th><th scope=col>&lt;dbl&gt;</th><th scope=col>&lt;dbl&gt;</th></tr>\n",
              "</thead>\n",
              "<tbody>\n",
              "\t<tr><td>0</td><td>2343</td><td>49.9</td></tr>\n",
              "\t<tr><td>1</td><td> 512</td><td>10.9</td></tr>\n",
              "\t<tr><td>2</td><td> 578</td><td>12.3</td></tr>\n",
              "\t<tr><td>3</td><td> 497</td><td>10.6</td></tr>\n",
              "\t<tr><td>4</td><td> 402</td><td> 8.6</td></tr>\n",
              "\t<tr><td>5</td><td> 214</td><td> 4.6</td></tr>\n",
              "\t<tr><td>6</td><td>  77</td><td> 1.6</td></tr>\n",
              "\t<tr><td>7</td><td>  74</td><td> 1.6</td></tr>\n",
              "</tbody>\n",
              "</table>\n"
            ],
            "text/markdown": "\nA data.frame: 8 × 3\n\n| rowname &lt;chr&gt; | Frequency &lt;dbl&gt; | Percent &lt;dbl&gt; |\n|---|---|---|\n| 0 | 2343 | 49.9 |\n| 1 |  512 | 10.9 |\n| 2 |  578 | 12.3 |\n| 3 |  497 | 10.6 |\n| 4 |  402 |  8.6 |\n| 5 |  214 |  4.6 |\n| 6 |   77 |  1.6 |\n| 7 |   74 |  1.6 |\n\n",
            "text/latex": "A data.frame: 8 × 3\n\\begin{tabular}{lll}\n rowname & Frequency & Percent\\\\\n <chr> & <dbl> & <dbl>\\\\\n\\hline\n\t 0 & 2343 & 49.9\\\\\n\t 1 &  512 & 10.9\\\\\n\t 2 &  578 & 12.3\\\\\n\t 3 &  497 & 10.6\\\\\n\t 4 &  402 &  8.6\\\\\n\t 5 &  214 &  4.6\\\\\n\t 6 &   77 &  1.6\\\\\n\t 7 &   74 &  1.6\\\\\n\\end{tabular}\n",
            "text/plain": [
              "  rowname Frequency Percent\n",
              "1 0       2343      49.9   \n",
              "2 1        512      10.9   \n",
              "3 2        578      12.3   \n",
              "4 3        497      10.6   \n",
              "5 4        402       8.6   \n",
              "6 5        214       4.6   \n",
              "7 6         77       1.6   \n",
              "8 7         74       1.6   "
            ]
          },
          "metadata": {}
        }
      ]
    },
    {
      "cell_type": "code",
      "source": [
        "# reorder rows\n",
        "writing$rowname <- factor(writing$rowname, levels=c('7', '6', '5', '4', '3', '2', '1', '0'))\n",
        "writing"
      ],
      "metadata": {
        "id": "Y94HPLXHd71q",
        "colab": {
          "base_uri": "https://localhost:8080/",
          "height": 349
        },
        "outputId": "2ebd7b29-047e-42a2-c7ce-865d58d67b8a"
      },
      "execution_count": null,
      "outputs": [
        {
          "output_type": "display_data",
          "data": {
            "text/html": [
              "<table class=\"dataframe\">\n",
              "<caption>A data.frame: 8 × 3</caption>\n",
              "<thead>\n",
              "\t<tr><th scope=col>rowname</th><th scope=col>Frequency</th><th scope=col>Percent</th></tr>\n",
              "\t<tr><th scope=col>&lt;fct&gt;</th><th scope=col>&lt;dbl&gt;</th><th scope=col>&lt;dbl&gt;</th></tr>\n",
              "</thead>\n",
              "<tbody>\n",
              "\t<tr><td>0</td><td>2343</td><td>49.9</td></tr>\n",
              "\t<tr><td>1</td><td> 512</td><td>10.9</td></tr>\n",
              "\t<tr><td>2</td><td> 578</td><td>12.3</td></tr>\n",
              "\t<tr><td>3</td><td> 497</td><td>10.6</td></tr>\n",
              "\t<tr><td>4</td><td> 402</td><td> 8.6</td></tr>\n",
              "\t<tr><td>5</td><td> 214</td><td> 4.6</td></tr>\n",
              "\t<tr><td>6</td><td>  77</td><td> 1.6</td></tr>\n",
              "\t<tr><td>7</td><td>  74</td><td> 1.6</td></tr>\n",
              "</tbody>\n",
              "</table>\n"
            ],
            "text/markdown": "\nA data.frame: 8 × 3\n\n| rowname &lt;fct&gt; | Frequency &lt;dbl&gt; | Percent &lt;dbl&gt; |\n|---|---|---|\n| 0 | 2343 | 49.9 |\n| 1 |  512 | 10.9 |\n| 2 |  578 | 12.3 |\n| 3 |  497 | 10.6 |\n| 4 |  402 |  8.6 |\n| 5 |  214 |  4.6 |\n| 6 |   77 |  1.6 |\n| 7 |   74 |  1.6 |\n\n",
            "text/latex": "A data.frame: 8 × 3\n\\begin{tabular}{lll}\n rowname & Frequency & Percent\\\\\n <fct> & <dbl> & <dbl>\\\\\n\\hline\n\t 0 & 2343 & 49.9\\\\\n\t 1 &  512 & 10.9\\\\\n\t 2 &  578 & 12.3\\\\\n\t 3 &  497 & 10.6\\\\\n\t 4 &  402 &  8.6\\\\\n\t 5 &  214 &  4.6\\\\\n\t 6 &   77 &  1.6\\\\\n\t 7 &   74 &  1.6\\\\\n\\end{tabular}\n",
            "text/plain": [
              "  rowname Frequency Percent\n",
              "1 0       2343      49.9   \n",
              "2 1        512      10.9   \n",
              "3 2        578      12.3   \n",
              "4 3        497      10.6   \n",
              "5 4        402       8.6   \n",
              "6 5        214       4.6   \n",
              "7 6         77       1.6   \n",
              "8 7         74       1.6   "
            ]
          },
          "metadata": {}
        }
      ]
    },
    {
      "cell_type": "code",
      "source": [
        "# (7) Visualization\n",
        "ggplot(writing, aes(x = \"\", y = Percent  , fill=rowname, label = Percent )) +\n",
        "       geom_bar(stat=\"identity\") +\n",
        "       geom_text(size=5, position = position_stack(vjust = 0.5))"
      ],
      "metadata": {
        "id": "FlO3IhghZtMR",
        "colab": {
          "base_uri": "https://localhost:8080/",
          "height": 437
        },
        "outputId": "e4708d29-8ac7-431f-d86c-a1b525020ed8"
      },
      "execution_count": null,
      "outputs": [
        {
          "output_type": "display_data",
          "data": {
            "text/plain": [
              "plot without title"
            ],
            "image/png": "[encoded data removed]"
          },
          "metadata": {
            "image/png": {
              "width": 420,
              "height": 420
            }
          }
        }
      ]
    }
  ]
}