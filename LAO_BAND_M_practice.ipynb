{
  "nbformat": 4,
  "nbformat_minor": 0,
  "metadata": {
    "colab": {
      "provenance": [],
      "include_colab_link": true
    },
    "kernelspec": {
      "name": "ir",
      "display_name": "R"
    },
    "language_info": {
      "name": "R"
    }
  },
  "cells": [
    {
      "cell_type": "markdown",
      "metadata": {
        "id": "view-in-github",
        "colab_type": "text"
      },
      "source": [
        "<a href=\"https://colab.research.google.com/github/kadamvd/data-cereries/blob/master/LAO_BAND_M_practice.ipynb\" target=\"_parent\"><img src=\"https://colab.research.google.com/assets/colab-badge.svg\" alt=\"Open In Colab\"/></a>"
      ]
    },
    {
      "cell_type": "markdown",
      "source": [
        "#**BAND visualization (Math)**\n",
        " (1) install and load packages\n",
        "\n",
        " (2) Data upload (Download Data: https://docs.google.com/spreadsheets/d/1Y3u7kXI6vPs8gzZvUOMHm-GMCk_aicdK/edit?usp=sharing&ouid=110404411823733054417&rtpof=true&sd=true)\n",
        "\n",
        " (3) Data open\n",
        "\n",
        " (4) Exploring data structures\n",
        "\n",
        " (5) Select variable(Math band)\n",
        "\n",
        " (6) Data pre-processing\n",
        "\n",
        " (7) Visualization"
      ],
      "metadata": {
        "id": "5I9l0C2YQ1T0"
      }
    },
    {
      "cell_type": "code",
      "source": [
        "# (1) install and load packages\n",
        "install.packages(\"descr\")\n",
        "library(descr)\n",
        "library(readxl)\n",
        "library(dplyr)\n",
        "library(tibble)\n",
        "library(ggplot2)"
      ],
      "metadata": {
        "id": "N8j9TfM3R_EH",
        "colab": {
          "base_uri": "https://localhost:8080/"
        },
        "outputId": "331ebab2-7986-48d4-fced-bbc10bf7051d"
      },
      "execution_count": 2,
      "outputs": [
        {
          "output_type": "stream",
          "name": "stderr",
          "text": [
            "Installing package into ‘/usr/local/lib/R/site-library’\n",
            "(as ‘lib’ is unspecified)\n",
            "\n",
            "also installing the dependency ‘xtable’\n",
            "\n",
            "\n",
            "\n",
            "Attaching package: ‘dplyr’\n",
            "\n",
            "\n",
            "The following objects are masked from ‘package:stats’:\n",
            "\n",
            "    filter, lag\n",
            "\n",
            "\n",
            "The following objects are masked from ‘package:base’:\n",
            "\n",
            "    intersect, setdiff, setequal, union\n",
            "\n",
            "\n"
          ]
        }
      ]
    },
    {
      "cell_type": "code",
      "execution_count": 3,
      "metadata": {
        "id": "ef-MOy4UQg0z"
      },
      "outputs": [],
      "source": [
        "# (2) Data upload - Drag & Drop the downloaded data into the file field\n",
        "\n",
        "# (3) Data open\n",
        "data <- read_excel(\"/content/LAO_BAND.xlsx\")"
      ]
    },
    {
      "cell_type": "code",
      "source": [
        "# (4) Exploring data structures\n",
        "head(data)"
      ],
      "metadata": {
        "id": "3CYZo77RbabA",
        "colab": {
          "base_uri": "https://localhost:8080/",
          "height": 286
        },
        "outputId": "1afdca97-b91b-463f-a5ad-aeb67278d858"
      },
      "execution_count": 4,
      "outputs": [
        {
          "output_type": "display_data",
          "data": {
            "text/html": [
              "<table class=\"dataframe\">\n",
              "<caption>A tibble: 6 × 5</caption>\n",
              "<thead>\n",
              "\t<tr><th scope=col>Fullid</th><th scope=col>S_GENDER</th><th scope=col>PL_PV1_M</th><th scope=col>PL_PV1_R</th><th scope=col>PL_PV1_W</th></tr>\n",
              "\t<tr><th scope=col>&lt;chr&gt;</th><th scope=col>&lt;dbl&gt;</th><th scope=col>&lt;dbl&gt;</th><th scope=col>&lt;dbl&gt;</th><th scope=col>&lt;dbl&gt;</th></tr>\n",
              "</thead>\n",
              "<tbody>\n",
              "\t<tr><td>LAO0100101001</td><td>1</td><td>5</td><td>3</td><td>1</td></tr>\n",
              "\t<tr><td>LAO0100101002</td><td>1</td><td>2</td><td>2</td><td>1</td></tr>\n",
              "\t<tr><td>LAO0100101003</td><td>1</td><td>2</td><td>3</td><td>0</td></tr>\n",
              "\t<tr><td>LAO0100101004</td><td>1</td><td>4</td><td>3</td><td>2</td></tr>\n",
              "\t<tr><td>LAO0100101005</td><td>1</td><td>4</td><td>2</td><td>1</td></tr>\n",
              "\t<tr><td>LAO0100101006</td><td>1</td><td>6</td><td>4</td><td>2</td></tr>\n",
              "</tbody>\n",
              "</table>\n"
            ],
            "text/markdown": "\nA tibble: 6 × 5\n\n| Fullid &lt;chr&gt; | S_GENDER &lt;dbl&gt; | PL_PV1_M &lt;dbl&gt; | PL_PV1_R &lt;dbl&gt; | PL_PV1_W &lt;dbl&gt; |\n|---|---|---|---|---|\n| LAO0100101001 | 1 | 5 | 3 | 1 |\n| LAO0100101002 | 1 | 2 | 2 | 1 |\n| LAO0100101003 | 1 | 2 | 3 | 0 |\n| LAO0100101004 | 1 | 4 | 3 | 2 |\n| LAO0100101005 | 1 | 4 | 2 | 1 |\n| LAO0100101006 | 1 | 6 | 4 | 2 |\n\n",
            "text/latex": "A tibble: 6 × 5\n\\begin{tabular}{lllll}\n Fullid & S\\_GENDER & PL\\_PV1\\_M & PL\\_PV1\\_R & PL\\_PV1\\_W\\\\\n <chr> & <dbl> & <dbl> & <dbl> & <dbl>\\\\\n\\hline\n\t LAO0100101001 & 1 & 5 & 3 & 1\\\\\n\t LAO0100101002 & 1 & 2 & 2 & 1\\\\\n\t LAO0100101003 & 1 & 2 & 3 & 0\\\\\n\t LAO0100101004 & 1 & 4 & 3 & 2\\\\\n\t LAO0100101005 & 1 & 4 & 2 & 1\\\\\n\t LAO0100101006 & 1 & 6 & 4 & 2\\\\\n\\end{tabular}\n",
            "text/plain": [
              "  Fullid        S_GENDER PL_PV1_M PL_PV1_R PL_PV1_W\n",
              "1 LAO0100101001 1        5        3        1       \n",
              "2 LAO0100101002 1        2        2        1       \n",
              "3 LAO0100101003 1        2        3        0       \n",
              "4 LAO0100101004 1        4        3        2       \n",
              "5 LAO0100101005 1        4        2        1       \n",
              "6 LAO0100101006 1        6        4        2       "
            ]
          },
          "metadata": {}
        }
      ]
    },
    {
      "cell_type": "code",
      "source": [
        "# (5) Select variable(Math band)\n",
        "math <- freq(data$PL_PV1_M)"
      ],
      "metadata": {
        "id": "Pq7FttFq1ZPR",
        "colab": {
          "base_uri": "https://localhost:8080/",
          "height": 437
        },
        "outputId": "283ab651-0462-4bd8-9f60-ad396830aca6"
      },
      "execution_count": 7,
      "outputs": [
        {
          "output_type": "display_data",
          "data": {
            "text/plain": [
              "plot without title"
            ],
            "image/png": "[encoded data removed]"
          },
          "metadata": {
            "image/png": {
              "width": 420,
              "height": 420
            }
          }
        }
      ]
    },
    {
      "cell_type": "code",
      "source": [
        "math"
      ],
      "metadata": {
        "id": "I8yEELa0hZnw",
        "colab": {
          "base_uri": "https://localhost:8080/",
          "height": 349
        },
        "outputId": "994e8570-97e7-4acb-e22e-8bb94e43d6d0"
      },
      "execution_count": 8,
      "outputs": [
        {
          "output_type": "display_data",
          "data": {
            "text/html": [
              "<table class=\"dataframe\">\n",
              "<caption>A freqtable: 9 × 2 of type dbl</caption>\n",
              "<thead>\n",
              "\t<tr><th></th><th scope=col>Frequency</th><th scope=col>Percent</th></tr>\n",
              "</thead>\n",
              "<tbody>\n",
              "\t<tr><th scope=row>2</th><td>1418</td><td> 30.18948265</td></tr>\n",
              "\t<tr><th scope=row>3</th><td>1118</td><td> 23.80242708</td></tr>\n",
              "\t<tr><th scope=row>4</th><td>1033</td><td> 21.99276134</td></tr>\n",
              "\t<tr><th scope=row>5</th><td> 687</td><td> 14.62635725</td></tr>\n",
              "\t<tr><th scope=row>6</th><td> 336</td><td>  7.15350224</td></tr>\n",
              "\t<tr><th scope=row>7</th><td>  92</td><td>  1.95869704</td></tr>\n",
              "\t<tr><th scope=row>8</th><td>  10</td><td>  0.21290185</td></tr>\n",
              "\t<tr><th scope=row>9</th><td>   3</td><td>  0.06387056</td></tr>\n",
              "\t<tr><th scope=row>Total</th><td>4697</td><td>100.00000000</td></tr>\n",
              "</tbody>\n",
              "</table>\n"
            ],
            "text/markdown": "\nA freqtable: 9 × 2 of type dbl\n\n| <!--/--> | Frequency | Percent |\n|---|---|---|\n| 2 | 1418 |  30.18948265 |\n| 3 | 1118 |  23.80242708 |\n| 4 | 1033 |  21.99276134 |\n| 5 |  687 |  14.62635725 |\n| 6 |  336 |   7.15350224 |\n| 7 |   92 |   1.95869704 |\n| 8 |   10 |   0.21290185 |\n| 9 |    3 |   0.06387056 |\n| Total | 4697 | 100.00000000 |\n\n",
            "text/latex": "A freqtable: 9 × 2 of type dbl\n\\begin{tabular}{r|ll}\n  & Frequency & Percent\\\\\n\\hline\n\t2 & 1418 &  30.18948265\\\\\n\t3 & 1118 &  23.80242708\\\\\n\t4 & 1033 &  21.99276134\\\\\n\t5 &  687 &  14.62635725\\\\\n\t6 &  336 &   7.15350224\\\\\n\t7 &   92 &   1.95869704\\\\\n\t8 &   10 &   0.21290185\\\\\n\t9 &    3 &   0.06387056\\\\\n\tTotal & 4697 & 100.00000000\\\\\n\\end{tabular}\n",
            "text/plain": [
              "      Frequency Percent     \n",
              "2     1418       30.18948265\n",
              "3     1118       23.80242708\n",
              "4     1033       21.99276134\n",
              "5      687       14.62635725\n",
              "6      336        7.15350224\n",
              "7       92        1.95869704\n",
              "8       10        0.21290185\n",
              "9        3        0.06387056\n",
              "Total 4697      100.00000000"
            ]
          },
          "metadata": {}
        }
      ]
    },
    {
      "cell_type": "code",
      "source": [
        "# (6) Data pre-processing\n",
        "#delete row \"Total\"\n",
        "math <- math[!(row.names(math) %in% \"Total\"),]"
      ],
      "metadata": {
        "id": "QCVRURZDIo6z"
      },
      "execution_count": 9,
      "outputs": []
    },
    {
      "cell_type": "code",
      "source": [
        "#convert to dataframe\n",
        "math <- data.frame(math)"
      ],
      "metadata": {
        "id": "rF9PWhod7wrK"
      },
      "execution_count": 10,
      "outputs": []
    },
    {
      "cell_type": "code",
      "source": [
        "#rowname to column\n",
        "math <- rownames_to_column(math)"
      ],
      "metadata": {
        "id": "vk9bCi8m7xV2"
      },
      "execution_count": 11,
      "outputs": []
    },
    {
      "cell_type": "code",
      "source": [
        "#limiting decimals\n",
        "math$Percent <- round(math$Percent, 1)"
      ],
      "metadata": {
        "id": "z7l72tZL7xJ5"
      },
      "execution_count": 12,
      "outputs": []
    },
    {
      "cell_type": "code",
      "source": [
        "#limiting decimals\n",
        "math$Percent <- round(, 1)"
      ],
      "metadata": {
        "id": "G7Gs0cKDdxED"
      },
      "execution_count": null,
      "outputs": []
    },
    {
      "cell_type": "code",
      "source": [
        "# reorder rows\n",
        "math$rowname <- factor(math$rowname, levels=c('6', '5', '4', '3', '2'))"
      ],
      "metadata": {
        "id": "Y94HPLXHd71q"
      },
      "execution_count": 13,
      "outputs": []
    },
    {
      "cell_type": "code",
      "source": [
        "# (7) Visualization\n",
        "ggplot(math, aes(x = \"\", y = Percent, fill=rowname, label = Percent  )) +\n",
        "       geom_bar(stat=\"identity\") +\n",
        "       geom_text(size=5, position = position_stack(vjust = 0.5))"
      ],
      "metadata": {
        "id": "FlO3IhghZtMR",
        "colab": {
          "base_uri": "https://localhost:8080/",
          "height": 437
        },
        "outputId": "f8411a0a-43d0-487d-b5d3-806e6db3c0d6"
      },
      "execution_count": 15,
      "outputs": [
        {
          "output_type": "display_data",
          "data": {
            "text/plain": [
              "plot without title"
            ],
            "image/png": "[encoded data removed]"
          },
          "metadata": {
            "image/png": {
              "width": 420,
              "height": 420
            }
          }
        }
      ]
    }
  ]
}